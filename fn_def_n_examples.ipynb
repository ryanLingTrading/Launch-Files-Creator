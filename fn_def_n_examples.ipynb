{
 "cells": [
  {
   "cell_type": "markdown",
   "metadata": {},
   "source": [
    "#### Helper Functions"
   ]
  },
  {
   "cell_type": "code",
   "execution_count": 66,
   "metadata": {},
   "outputs": [],
   "source": [
    "import yaml\n",
    "import sympy as sp\n",
    "\n",
    "def generate_aggregation_yaml_from_file(config_file, parameters):\n",
    "    with open(config_file, \"r\") as file:\n",
    "        template = file.read()\n",
    "    \n",
    "    yaml_text = template.format(**parameters)\n",
    "    dict_obj = yaml.safe_load(yaml_text)\n",
    "\n",
    "    fname_prefix = dict_obj.get(\"metadata\").get(\"name\")\n",
    "\n",
    "    assert fname_prefix is not None, \"fname not in correct position???\"\n",
    "    return fname_prefix, yaml_text\n"
   ]
  },
  {
   "cell_type": "code",
   "execution_count": 7,
   "metadata": {},
   "outputs": [],
   "source": [
    "def write_yaml_to_file(fname_prefix, yaml_text):\n",
    "    with open(f\"{fname_prefix}.yaml\", \"w\") as f:\n",
    "        f.write(yaml_text)"
   ]
  },
  {
   "cell_type": "code",
   "execution_count": 59,
   "metadata": {},
   "outputs": [],
   "source": [
    "def fname_to_redis_key(fname_prefix):\n",
    "    '''\n",
    "        Example Input: \"index.multiple.spot.multiple.public.FYN.USD.delta.affyn-mm\" \n",
    "        Output:\"delta.multiple.spot.multiple.public.FYN.USD.affyn-mm\"\n",
    "    '''\n",
    "    string_lst = fname_prefix.split(\".\")\n",
    "    string_lst.pop(0)\n",
    "    temp = string_lst.pop(-2)\n",
    "    string_lst = [temp] + string_lst\n",
    "    return '.'.join(string_lst) "
   ]
  },
  {
   "cell_type": "markdown",
   "metadata": {},
   "source": [
    "#### Volume (PES)"
   ]
  },
  {
   "cell_type": "code",
   "execution_count": 63,
   "metadata": {},
   "outputs": [
    {
     "name": "stdout",
     "output_type": "stream",
     "text": [
      "volume.bitmart.spot.IXS.USDT.ixswap.bitmart-spot-0 apiVersion: microservice.flowdesk.co/v1alpha1\n",
      "kind: Volume\n",
      "metadata:\n",
      "  labels:\n",
      "    app.kubernetes.io/managed-by: flux\n",
      "    app.kubernetes.io/created-by: flux\n",
      "  name: volume.bitmart.spot.IXS.USDT.ixswap.bitmart-spot-0\n",
      "  namespace: ixswap\n",
      "spec:\n",
      "  deploymentSpec:\n",
      "    projectId: infrastructure-prod-92821\n",
      "    imageName: asia-northeast1-docker.pkg.dev/infrastructure-prod-92821/main-asia/flowdeskmarkets/volume\n",
      "    imageTag: v3.4.0\n",
      "  settings:\n",
      "    accountID: bitmart-spot-0\n",
      "    authType: private\n",
      "    clientName: ixswap\n",
      "    currency1: IXS\n",
      "    currency2: USDT\n",
      "    dynamicSettings:\n",
      "      V0: 3800\n",
      "      baseProbabilityThreshold: 0.0015\n",
      "      digitsPrice: 5\n",
      "      digitsVolume: 2\n",
      "      directionalityFactor: 0.65\n",
      "      minStepVolume: 0\n",
      "      minTradeAmount: 200\n",
      "      preventSpreadCrossing: true\n",
      "      priceNoiseRange: 0.005\n",
      "      priceStep: 100\n",
      "      priceVolatilityFactor: 1\n",
      "      pushToExecutor: false\n",
      "      serviceOn: false\n",
      "    exchange: bitmart\n",
      "    exchangeType: spot\n",
      "    indexChannels:\n",
      "      indexPrice: tick.bitmart.spot.ws.public.IXS.USDT.USDT\n",
      "      tickPublicOrderbook: tick.bitmart.spot.ws.public.IXS.USDT.USDT\n",
      "    protocol: ws\n",
      "\n"
     ]
    }
   ],
   "source": [
    "# Example usage: Volume\n",
    "config_file = \"./configs_templates/volume_template.yaml\"\n",
    "parameters = {\n",
    "    \"exchange\": \"bitmart\",\n",
    "    \"exchangeType\": \"spot\",\n",
    "    \"exchangeProtocol\": \"ws\",\n",
    "    \"currency1\": \"IXS\",\n",
    "    \"currency2\": \"USDT\",\n",
    "    \"clientName\": \"ixswap\",\n",
    "    \"accountID\": \"bitmart-spot-0\",\n",
    "    \"usdtIndex\": \"tick.bitmart.spot.ws.public.IXS.USDT.USDT\", # this can be either basket index or the exchange tick\n",
    "    \"tickPublicOrderbook\": \"tick.bitmart.spot.ws.public.IXS.USDT.USDT\"\n",
    "}\n",
    "\n",
    "fname_prefix, yaml_text = generate_aggregation_yaml_from_file(config_file, parameters)\n",
    "# write_to_file(fname_prefix, yaml_text)\n",
    "print(fname_prefix, yaml_text)"
   ]
  },
  {
   "cell_type": "code",
   "execution_count": 64,
   "metadata": {},
   "outputs": [],
   "source": [
    "write_yaml_to_file(f\"configs/{fname_prefix}\", yaml_text)"
   ]
  },
  {
   "cell_type": "markdown",
   "metadata": {},
   "source": [
    "#### PATH const definitions"
   ]
  },
  {
   "cell_type": "code",
   "execution_count": 9,
   "metadata": {},
   "outputs": [],
   "source": [
    "TEMPLATE_BASE_PATH = \"./configs_templates/\" ### change this line ###\n",
    "\n",
    "PRIVATE_TEMPLATE_FPATH = TEMPLATE_BASE_PATH + \"/private_base_config.yaml\"\n",
    "PUBLIC_TEMPLATE_PATH = TEMPLATE_BASE_PATH + \"public_base_config.yaml\"\n",
    "INDEX_TEMPLATE_PATH = TEMPLATE_BASE_PATH + \"indexes/\"\n"
   ]
  },
  {
   "cell_type": "markdown",
   "metadata": {},
   "source": [
    "#### Private (trades, balances, ob)"
   ]
  },
  {
   "cell_type": "markdown",
   "metadata": {},
   "source": [
    "##### Private Trades"
   ]
  },
  {
   "cell_type": "code",
   "execution_count": 10,
   "metadata": {},
   "outputs": [],
   "source": [
    "def private_trades_agg(clientName, exchange, exchangeType, exchangeProtocol, currency1, currency2, indexkeyName, usdIndexKeyName, accountID = None, period = None, config_fpath=PRIVATE_TEMPLATE_FPATH):\n",
    "    '''\n",
    "    extra fields to add to base aggregation config\n",
    "    - indexkeyName: global USDT basket Index\n",
    "    - usdIndexKeyName: global USD basket Index\n",
    "    - fetchFull: True by default (?)\n",
    "\n",
    "    Optional Params:\n",
    "    - accountID: since usually is {exchange}-{exchangeType}-0\n",
    "    - period: usually is 5000 mseconds\n",
    "    '''\n",
    "    params = {\n",
    "        \"clientName\": clientName,\n",
    "        \"exchange\": exchange,\n",
    "        \"exchangeType\": exchangeType,\n",
    "        \"exchangeProtocol\": exchangeProtocol,\n",
    "        \"currency1\": currency1,\n",
    "        \"currency2\": currency2,\n",
    "        \"accountID\": f\"{exchange}-{exchangeType}-0\" if accountID is None else accountID,\n",
    "        \"period\": 5000 if period is None else period,\n",
    "        \"marketData\": \"trades\", ## fixed\n",
    "    }\n",
    "\n",
    "    fname_prefix, yaml_text = generate_aggregation_yaml_from_file(config_file=config_fpath, parameters=params)\n",
    "\n",
    "    ## add extra fields\n",
    "    temp = yaml.safe_load(yaml_text)\n",
    "    temp[\"spec\"][\"settings\"][\"indexKeyName\"] = indexkeyName ## usdt basket\n",
    "    temp[\"spec\"][\"settings\"][\"usdIndexKeyName\"] = usdIndexKeyName ## ## usd basket\n",
    "    temp[\"spec\"][\"settings\"][\"fetchFull\"] = True\n",
    "\n",
    "    yaml_text = yaml.dump(temp)\n",
    "\n",
    "    return fname_prefix, yaml_text\n"
   ]
  },
  {
   "cell_type": "code",
   "execution_count": 11,
   "metadata": {},
   "outputs": [],
   "source": [
    "fname_prefix, yaml_text = private_trades_agg(\n",
    "    clientName=\"affyn\",\n",
    "    exchange=\"gate\",\n",
    "    exchangeType=\"spot\",\n",
    "    exchangeProtocol=\"ws\",\n",
    "    currency1='ETH',\n",
    "    currency2=\"USDT\",\n",
    "    indexkeyName=\"basket.multiple.spot.multiple.public.ETH.USDT.asia.global\",\n",
    "    usdIndexKeyName=\"basket.multiple.spot.multiple.public.ETH.USD.asia.global\"\n",
    ")"
   ]
  },
  {
   "cell_type": "code",
   "execution_count": 12,
   "metadata": {},
   "outputs": [
    {
     "name": "stdout",
     "output_type": "stream",
     "text": [
      "apiVersion: microservice.flowdesk.co/v1alpha1\n",
      "kind: Aggregation\n",
      "metadata:\n",
      "  labels:\n",
      "    app.kubernetes.io/created-by: flux\n",
      "    app.kubernetes.io/managed-by: flux\n",
      "  name: aggregation.gate.spot.ws.private.ETH.USDT.trades.affyn.gate-spot-0\n",
      "  namespace: affyn\n",
      "spec:\n",
      "  deploymentSpec:\n",
      "    imageName: asia-northeast1-docker.pkg.dev/infrastructure-prod-92821/main-asia/flowdeskmarkets/aggregation\n",
      "    imageTag: v2.188.4\n",
      "    injectorImageName: asia-northeast1-docker.pkg.dev/infrastructure-prod-92821/main-asia/gcp-secretmanager-apikeys-injector\n",
      "    injectorImageTag: v1.0.1\n",
      "    projectId: infrastructure-prod-92821\n",
      "  settings:\n",
      "    accountID: gate-spot-0\n",
      "    authType: private\n",
      "    clientName: affyn\n",
      "    currency1: ETH\n",
      "    currency2: USDT\n",
      "    exchange: gate\n",
      "    exchangeType: spot\n",
      "    fetchFull: true\n",
      "    indexKeyName: basket.multiple.spot.multiple.public.ETH.USDT.asia.global\n",
      "    marketData: trades\n",
      "    period: 5000\n",
      "    protocol: ws\n",
      "    usdIndexKeyName: basket.multiple.spot.multiple.public.ETH.USD.asia.global\n",
      "\n"
     ]
    }
   ],
   "source": [
    "print(yaml_text)"
   ]
  },
  {
   "cell_type": "markdown",
   "metadata": {},
   "source": [
    "##### Private Balance, OrderBook"
   ]
  },
  {
   "cell_type": "code",
   "execution_count": 13,
   "metadata": {},
   "outputs": [],
   "source": [
    "def private_orderbook_agg(clientName, exchange, exchangeType, exchangeProtocol, currency1, currency2, accountID=None, period=None, config_fpath=PRIVATE_TEMPLATE_FPATH):\n",
    "    params = {\n",
    "        \"clientName\": clientName,\n",
    "        \"exchange\": exchange,\n",
    "        \"exchangeType\": exchangeType,\n",
    "        \"exchangeProtocol\": exchangeProtocol,\n",
    "        \"currency1\": currency1,\n",
    "        \"currency2\": currency2,\n",
    "        \"accountID\": f\"{exchange}-{exchangeType}-0\" if accountID is None else accountID,\n",
    "        \"period\": 20000 if period is None else period,\n",
    "        \"marketData\": \"orderbook\", ## fixed\n",
    "    }\n",
    "    # returns fname_prefix, yaml_text\n",
    "    return generate_aggregation_yaml_from_file(config_file=config_fpath, parameters=params)\n"
   ]
  },
  {
   "cell_type": "code",
   "execution_count": 14,
   "metadata": {},
   "outputs": [],
   "source": [
    "fname_prefix, yaml_text = private_orderbook_agg(\n",
    "    clientName=\"affyn\",\n",
    "    exchange=\"gate\",\n",
    "    exchangeType=\"spot\",\n",
    "    exchangeProtocol=\"ws\",\n",
    "    currency1='ETH',\n",
    "    currency2=\"USDT\",\n",
    ")"
   ]
  },
  {
   "cell_type": "code",
   "execution_count": 15,
   "metadata": {},
   "outputs": [
    {
     "name": "stdout",
     "output_type": "stream",
     "text": [
      "# aggregation_base_config.yaml\n",
      "apiVersion: microservice.flowdesk.co/v1alpha1\n",
      "kind: Aggregation\n",
      "metadata:\n",
      "  labels:\n",
      "    app.kubernetes.io/managed-by: flux\n",
      "    app.kubernetes.io/created-by: flux\n",
      "  name: aggregation.gate.spot.ws.private.ETH.USDT.orderbook.affyn.gate-spot-0\n",
      "  namespace: affyn # if public then should be global\n",
      "spec:\n",
      "  deploymentSpec:\n",
      "    projectId: infrastructure-prod-92821\n",
      "    imageName: asia-northeast1-docker.pkg.dev/infrastructure-prod-92821/main-asia/flowdeskmarkets/aggregation\n",
      "    imageTag: v2.188.4\n",
      "    injectorImageName: asia-northeast1-docker.pkg.dev/infrastructure-prod-92821/main-asia/gcp-secretmanager-apikeys-injector\n",
      "    injectorImageTag: v1.0.1\n",
      "  settings:\n",
      "    clientName: affyn # e.g. stader\n",
      "    accountID: gate-spot-0 # e.g. okex-spot-0\n",
      "    exchange: gate # e.g. okex\n",
      "    exchangeType: spot # spot, futures, options\n",
      "    protocol: ws # rest, ws, fix(?)\n",
      "    authType: private\n",
      "    marketData: orderbook # balance, orderbook, trades(specical case)\n",
      "    currency1: ETH\n",
      "    currency2: USDT\n",
      "    period: 20000 # in private agg this is used for periodic rest call on top of ws for missing data \n",
      "\n"
     ]
    }
   ],
   "source": [
    "print(yaml_text)"
   ]
  },
  {
   "cell_type": "code",
   "execution_count": 16,
   "metadata": {},
   "outputs": [],
   "source": [
    "def private_balance_agg(clientName, exchange, exchangeType, exchangeProtocol, currency1, currency2, accountID=None, period=None, config_fpath=PRIVATE_TEMPLATE_FPATH):\n",
    "    params = {\n",
    "        \"clientName\": clientName,\n",
    "        \"exchange\": exchange,\n",
    "        \"exchangeType\": exchangeType,\n",
    "        \"exchangeProtocol\": exchangeProtocol, ## expected most are rest\n",
    "        \"currency1\": currency1,\n",
    "        \"currency2\": currency2,\n",
    "        \"accountID\": f\"{exchange}-{exchangeType}-0\" if accountID is None else accountID,\n",
    "        \"period\": 10000 if period is None else period,\n",
    "        \"marketData\": \"balance\", ## fixed\n",
    "    }\n",
    "    # returns fname_prefix, yaml_text\n",
    "    return generate_aggregation_yaml_from_file(config_file=config_fpath, parameters=params)\n"
   ]
  },
  {
   "cell_type": "code",
   "execution_count": 17,
   "metadata": {},
   "outputs": [],
   "source": [
    "fname_prefix, yaml_text = private_balance_agg(\n",
    "    clientName=\"affyn\",\n",
    "    exchange=\"gate\",\n",
    "    exchangeType=\"spot\",\n",
    "    exchangeProtocol=\"rest\",\n",
    "    currency1='ETH',\n",
    "    currency2=\"USDT\",\n",
    ")"
   ]
  },
  {
   "cell_type": "code",
   "execution_count": 18,
   "metadata": {},
   "outputs": [
    {
     "name": "stdout",
     "output_type": "stream",
     "text": [
      "# aggregation_base_config.yaml\n",
      "apiVersion: microservice.flowdesk.co/v1alpha1\n",
      "kind: Aggregation\n",
      "metadata:\n",
      "  labels:\n",
      "    app.kubernetes.io/managed-by: flux\n",
      "    app.kubernetes.io/created-by: flux\n",
      "  name: aggregation.gate.spot.rest.private.ETH.USDT.balance.affyn.gate-spot-0\n",
      "  namespace: affyn # if public then should be global\n",
      "spec:\n",
      "  deploymentSpec:\n",
      "    projectId: infrastructure-prod-92821\n",
      "    imageName: asia-northeast1-docker.pkg.dev/infrastructure-prod-92821/main-asia/flowdeskmarkets/aggregation\n",
      "    imageTag: v2.188.4\n",
      "    injectorImageName: asia-northeast1-docker.pkg.dev/infrastructure-prod-92821/main-asia/gcp-secretmanager-apikeys-injector\n",
      "    injectorImageTag: v1.0.1\n",
      "  settings:\n",
      "    clientName: affyn # e.g. stader\n",
      "    accountID: gate-spot-0 # e.g. okex-spot-0\n",
      "    exchange: gate # e.g. okex\n",
      "    exchangeType: spot # spot, futures, options\n",
      "    protocol: rest # rest, ws, fix(?)\n",
      "    authType: private\n",
      "    marketData: balance # balance, orderbook, trades(specical case)\n",
      "    currency1: ETH\n",
      "    currency2: USDT\n",
      "    period: 10000 # in private agg this is used for periodic rest call on top of ws for missing data \n",
      "\n"
     ]
    }
   ],
   "source": [
    "print(yaml_text)"
   ]
  },
  {
   "cell_type": "code",
   "execution_count": null,
   "metadata": {},
   "outputs": [],
   "source": []
  },
  {
   "cell_type": "markdown",
   "metadata": {},
   "source": [
    "#### Public (tick, trades, ob)"
   ]
  },
  {
   "cell_type": "markdown",
   "metadata": {},
   "source": [
    "##### Public tick"
   ]
  },
  {
   "cell_type": "code",
   "execution_count": 19,
   "metadata": {},
   "outputs": [],
   "source": [
    "def public_tick_agg(exchange, exchangeType, exchangeProtocol, currency1, currency2, effectiveCurrencies2=None, config_fpath=PUBLIC_TEMPLATE_PATH):\n",
    "    params = {\n",
    "        \"exchange\": exchange,\n",
    "        \"exchangeType\": exchangeType,\n",
    "        \"exchangeProtocol\": exchangeProtocol,\n",
    "        \"currency1\": currency1,\n",
    "        \"currency2\": currency2,\n",
    "        \"authType\": \"public\", ## fixed\n",
    "        \"marketData\": \"tick\", ## fixed\n",
    "    }\n",
    "\n",
    "    fname_prefix, yaml_text = generate_aggregation_yaml_from_file(config_file=config_fpath, parameters=params)\n",
    "\n",
    "    ## add / pop extra fields\n",
    "    temp = yaml.safe_load(yaml_text)\n",
    "\n",
    "    ## add effective currency\n",
    "    if effectiveCurrencies2 is None:\n",
    "        effectiveCurrencies2 = 'USD'\n",
    "        indexName = f\"basket.multiple.spot.multiple.public.{currency2}.USD.asia.global\"\n",
    "    else:\n",
    "        indexName = f\"basket.multiple.spot.multiple.public.{currency2}.{effectiveCurrencies2}.asia.global\"\n",
    "\n",
    "    ## TODO: check in redis if such key (indexName) exists\n",
    "    \n",
    "    temp[\"spec\"][\"settings\"][\"effectiveCurrencies2\"] = [\n",
    "        {\n",
    "            \"name\": effectiveCurrencies2,\n",
    "            \"indexName\": indexName\n",
    "        }\n",
    "    ]\n",
    "\n",
    "    yaml_text = yaml.dump(temp)\n",
    "\n",
    "    return fname_prefix, yaml_text"
   ]
  },
  {
   "cell_type": "code",
   "execution_count": 20,
   "metadata": {},
   "outputs": [],
   "source": [
    "fname_prefix, yaml_text = public_tick_agg(\n",
    "    exchange=\"gate\",\n",
    "    exchangeType=\"spot\",\n",
    "    exchangeProtocol=\"ws\",\n",
    "    currency1='ETH',\n",
    "    currency2=\"USDT\",\n",
    ")"
   ]
  },
  {
   "cell_type": "code",
   "execution_count": 21,
   "metadata": {},
   "outputs": [
    {
     "name": "stdout",
     "output_type": "stream",
     "text": [
      "apiVersion: microservice.flowdesk.co/v1alpha1\n",
      "kind: Aggregation\n",
      "metadata:\n",
      "  labels:\n",
      "    app.kubernetes.io/created-by: flux\n",
      "    app.kubernetes.io/managed-by: flux\n",
      "  name: aggregation.gate.spot.ws.public.ETH.USDT.tick\n",
      "  namespace: global\n",
      "spec:\n",
      "  deploymentSpec:\n",
      "    imageName: asia-northeast1-docker.pkg.dev/infrastructure-prod-92821/main-asia/flowdeskmarkets/aggregation\n",
      "    imageTag: v2.188.4\n",
      "    injectorImageName: asia-northeast1-docker.pkg.dev/infrastructure-prod-92821/main-asia/gcp-secretmanager-apikeys-injector\n",
      "    injectorImageTag: v1.0.1\n",
      "    projectId: infrastructure-prod-92821\n",
      "  settings:\n",
      "    authType: public\n",
      "    currency1: ETH\n",
      "    currency2: USDT\n",
      "    effectiveCurrencies2:\n",
      "    - indexName: basket.multiple.spot.multiple.public.USDT.USD.asia.global\n",
      "      name: USD\n",
      "    exchange: gate\n",
      "    exchangeType: spot\n",
      "    marketData: tick\n",
      "    protocol: ws\n",
      "\n"
     ]
    }
   ],
   "source": [
    "print(yaml_text)"
   ]
  },
  {
   "cell_type": "markdown",
   "metadata": {},
   "source": [
    "##### Public trades"
   ]
  },
  {
   "cell_type": "code",
   "execution_count": 22,
   "metadata": {},
   "outputs": [],
   "source": [
    "def public_trades_agg(exchange, exchangeType, exchangeProtocol, currency1, currency2, config_fpath=PUBLIC_TEMPLATE_PATH):\n",
    "    params = {\n",
    "        \"exchange\": exchange,\n",
    "        \"exchangeType\": exchangeType,\n",
    "        \"exchangeProtocol\": exchangeProtocol,\n",
    "        \"currency1\": currency1,\n",
    "        \"currency2\": currency2,\n",
    "        \"authType\": \"public\", ## fixed\n",
    "        \"marketData\": \"trades\", ## fixed\n",
    "    }\n",
    "\n",
    "    fname_prefix, yaml_text = generate_aggregation_yaml_from_file(config_file=config_fpath, parameters=params)\n",
    "\n",
    "    ## add / pop extra fields\n",
    "    temp = yaml.safe_load(yaml_text)\n",
    "\n",
    "    yaml_text = yaml.dump(temp)\n",
    "\n",
    "    return fname_prefix, yaml_text"
   ]
  },
  {
   "cell_type": "code",
   "execution_count": 23,
   "metadata": {},
   "outputs": [],
   "source": [
    "fname_prefix, yaml_text = public_trades_agg(\n",
    "    exchange=\"gate\",\n",
    "    exchangeType=\"spot\",\n",
    "    exchangeProtocol=\"ws\",\n",
    "    currency1='ETH',\n",
    "    currency2=\"USDT\",\n",
    ")"
   ]
  },
  {
   "cell_type": "code",
   "execution_count": 24,
   "metadata": {},
   "outputs": [
    {
     "name": "stdout",
     "output_type": "stream",
     "text": [
      "apiVersion: microservice.flowdesk.co/v1alpha1\n",
      "kind: Aggregation\n",
      "metadata:\n",
      "  labels:\n",
      "    app.kubernetes.io/created-by: flux\n",
      "    app.kubernetes.io/managed-by: flux\n",
      "  name: aggregation.gate.spot.ws.public.ETH.USDT.trades\n",
      "  namespace: global\n",
      "spec:\n",
      "  deploymentSpec:\n",
      "    imageName: asia-northeast1-docker.pkg.dev/infrastructure-prod-92821/main-asia/flowdeskmarkets/aggregation\n",
      "    imageTag: v2.188.4\n",
      "    injectorImageName: asia-northeast1-docker.pkg.dev/infrastructure-prod-92821/main-asia/gcp-secretmanager-apikeys-injector\n",
      "    injectorImageTag: v1.0.1\n",
      "    projectId: infrastructure-prod-92821\n",
      "  settings:\n",
      "    authType: public\n",
      "    currency1: ETH\n",
      "    currency2: USDT\n",
      "    exchange: gate\n",
      "    exchangeType: spot\n",
      "    marketData: trades\n",
      "    protocol: ws\n",
      "\n"
     ]
    }
   ],
   "source": [
    "print(yaml_text)"
   ]
  },
  {
   "cell_type": "markdown",
   "metadata": {},
   "source": [
    "##### Public OB"
   ]
  },
  {
   "cell_type": "code",
   "execution_count": 25,
   "metadata": {},
   "outputs": [],
   "source": [
    "def public_orderbook_agg(exchange, exchangeType, exchangeProtocol, currency1, currency2, config_fpath=PUBLIC_TEMPLATE_PATH):\n",
    "    \"\"\"\n",
    "    Generates a public order book aggregation YAML file based on the provided exchange, exchange type, exchange protocol, and currency pairs.\n",
    "\n",
    "    This function constructs a dictionary of parameters, including exchange details and currency pairs, and uses these to generate a YAML file.  \n",
    "    It then loads the YAML file, optionally modifies it by adding or removing fields, and finally returns the filename prefix and the modified YAML text.\n",
    "\n",
    "    Parameters:\n",
    "        exchange (str): The name of the exchange (e.g., binance, okex)\n",
    "        exchangeType (str): The type of the exchange (e.g., spot, futures).\n",
    "        exchangeProtocol (str): The protocol used by the exchange (e.g., rest, ws, fix).\n",
    "        currency1 (str): The first currency in the pair, assumed all caps (e.g. BTC)\n",
    "        currency2 (str): The second currency in the pair, assumed all caps (e.g. USDT)\n",
    "        config_fpath (str, optional): The path to the configuration file. Defaults to PUBLIC_TEMPLATE_PATH.\n",
    "\n",
    "    Returns:\n",
    "        tuple: A tuple containing the filename prefix and the YAML text.\n",
    "\n",
    "    Note:\n",
    "        The market data is fixed to \"orderbook\" for this function.\n",
    "    \"\"\"\n",
    "    params = {\n",
    "        \"exchange\": exchange,\n",
    "        \"exchangeType\": exchangeType,\n",
    "        \"exchangeProtocol\": exchangeProtocol,\n",
    "        \"currency1\": currency1,\n",
    "        \"currency2\": currency2,\n",
    "        \"marketData\": \"orderbook\", ## fixed\n",
    "    }\n",
    "\n",
    "    fname_prefix, yaml_text = generate_aggregation_yaml_from_file(config_file=config_fpath, parameters=params)\n",
    "\n",
    "    ## add / pop extra fields\n",
    "    temp = yaml.safe_load(yaml_text)\n",
    "\n",
    "    yaml_text = yaml.dump(temp)\n",
    "\n",
    "    return fname_prefix, yaml_text\n"
   ]
  },
  {
   "cell_type": "code",
   "execution_count": 26,
   "metadata": {},
   "outputs": [],
   "source": [
    "fname_prefix, yaml_text = public_orderbook_agg(\n",
    "    exchange=\"gate\",\n",
    "    exchangeType=\"spot\",\n",
    "    exchangeProtocol=\"ws\",\n",
    "    currency1='ETH',\n",
    "    currency2=\"USDT\",\n",
    ")"
   ]
  },
  {
   "cell_type": "code",
   "execution_count": 27,
   "metadata": {},
   "outputs": [
    {
     "name": "stdout",
     "output_type": "stream",
     "text": [
      "apiVersion: microservice.flowdesk.co/v1alpha1\n",
      "kind: Aggregation\n",
      "metadata:\n",
      "  labels:\n",
      "    app.kubernetes.io/created-by: flux\n",
      "    app.kubernetes.io/managed-by: flux\n",
      "  name: aggregation.gate.spot.ws.public.ETH.USDT.orderbook\n",
      "  namespace: global\n",
      "spec:\n",
      "  deploymentSpec:\n",
      "    imageName: asia-northeast1-docker.pkg.dev/infrastructure-prod-92821/main-asia/flowdeskmarkets/aggregation\n",
      "    imageTag: v2.188.4\n",
      "    injectorImageName: asia-northeast1-docker.pkg.dev/infrastructure-prod-92821/main-asia/gcp-secretmanager-apikeys-injector\n",
      "    injectorImageTag: v1.0.1\n",
      "    projectId: infrastructure-prod-92821\n",
      "  settings:\n",
      "    authType: public\n",
      "    currency1: ETH\n",
      "    currency2: USDT\n",
      "    exchange: gate\n",
      "    exchangeType: spot\n",
      "    marketData: orderbook\n",
      "    protocol: ws\n",
      "\n"
     ]
    }
   ],
   "source": [
    "print(yaml_text)"
   ]
  },
  {
   "cell_type": "markdown",
   "metadata": {},
   "source": [
    "#### Indexes (delta, basket index, price index, pos factor, vol index)"
   ]
  },
  {
   "cell_type": "markdown",
   "metadata": {},
   "source": [
    "##### Delta"
   ]
  },
  {
   "cell_type": "code",
   "execution_count": 60,
   "metadata": {},
   "outputs": [],
   "source": [
    "def index_delta(clientName, currency1, effectiveCurrencies2, tradeAggList, deltaCurrency=None, config_fpath = INDEX_TEMPLATE_PATH+\"delta_template.yaml\"):\n",
    "    if deltaCurrency is None:\n",
    "        deltaCurrency = currency1\n",
    "    else:\n",
    "        assert deltaCurrency in [currency1, effectiveCurrencies2], \"deltaCurrency has to be either currency1 or effectiveCurrencies2\"\n",
    "    \n",
    "    params = {\n",
    "        \"currency1\": currency1,\n",
    "        \"effectiveCurrencies2\": effectiveCurrencies2,\n",
    "        \"clientName\": clientName,\n",
    "        \"deltaCurrency\": deltaCurrency\n",
    "    }\n",
    "\n",
    "    fname_prefix, yaml_text = generate_aggregation_yaml_from_file(config_file=config_fpath, parameters=params)\n",
    "\n",
    "    temp = yaml.safe_load(yaml_text)\n",
    "\n",
    "    ## add trade aggres to compose delta\n",
    "    temp[\"spec\"][\"settings\"][\"components\"] = tradeAggList\n",
    "\n",
    "    yaml_text = yaml.dump(temp)\n",
    "\n",
    "    return fname_prefix, yaml_text\n"
   ]
  },
  {
   "cell_type": "code",
   "execution_count": 61,
   "metadata": {},
   "outputs": [],
   "source": [
    "fname_prefix, yaml_text = index_delta(\n",
    "    clientName=\"affyn\",\n",
    "    currency1='FYN',\n",
    "    effectiveCurrencies2=\"USD\",\n",
    "    tradeAggList=[\n",
    "        \"trades.uniswapv3-polygon.spot.rest.private.FYN.ETH.affyn.uniswapv3-polygon-spot-0\",\n",
    "        \"trades.gate.spot.ws.private.FYN.USDT.affyn.gate-spot-0\",\n",
    "        \"trades.mexc.spot.ws.private.FYN.USDT.affyn.mexc-spot-0\",\n",
    "        ]\n",
    ")"
   ]
  },
  {
   "cell_type": "code",
   "execution_count": 31,
   "metadata": {},
   "outputs": [
    {
     "name": "stdout",
     "output_type": "stream",
     "text": [
      "apiVersion: microservice.flowdesk.co/v1alpha1\n",
      "kind: Index\n",
      "metadata:\n",
      "  labels:\n",
      "    app.kubernetes.io/created-by: flux\n",
      "    app.kubernetes.io/managed-by: flux\n",
      "  name: index.multiple.spot.multiple.public.FYN.USD.delta.affyn-mm\n",
      "  namespace: global\n",
      "spec:\n",
      "  deploymentSpec:\n",
      "    imageName: asia-northeast1-docker.pkg.dev/infrastructure-prod-92821/main-asia/flowdeskmarkets/index\n",
      "    imageTag: v1.15.1\n",
      "    projectId: infrastructure-prod-92821\n",
      "  settings:\n",
      "    authType: public\n",
      "    components:\n",
      "    - trades.uniswapv3-polygon.spot.rest.private.FYN.ETH.affyn.uniswapv3-polygon-spot-0\n",
      "    - trades.gate.spot.ws.private.FYN.USDT.affyn.gate-spot-0\n",
      "    - trades.mexc.spot.ws.private.FYN.USDT.affyn.mexc-spot-0\n",
      "    currency1: FYN\n",
      "    currency2: USD\n",
      "    customName: affyn-mm\n",
      "    disableExpiry: true\n",
      "    exchange: multiple\n",
      "    exchangeType: spot\n",
      "    indexSettings:\n",
      "      deltaCurrency: FYN\n",
      "      sourceFilters:\n",
      "      - market-making\n",
      "      - hedging\n",
      "      - unmapped\n",
      "      - flowdeskAPI\n",
      "      - brokerage\n",
      "    marketData: delta\n",
      "    minPeriod: 0\n",
      "    minVariationThreshold: 0\n",
      "    protocol: multiple\n",
      "\n"
     ]
    }
   ],
   "source": [
    "print(yaml_text)"
   ]
  },
  {
   "cell_type": "markdown",
   "metadata": {},
   "source": [
    "##### PosFactor"
   ]
  },
  {
   "cell_type": "code",
   "execution_count": 38,
   "metadata": {},
   "outputs": [],
   "source": [
    "def index_position_factor(currency1, effectiveCurrencies2, deltaIndexPrefix, denominator=10000, posfLimit=0.2, config_fpath = INDEX_TEMPLATE_PATH+\"position_factor_template.yaml\"):\n",
    "    '''\n",
    "    deltaIndexPrefix can be list or str\n",
    "    '''\n",
    "\n",
    "    if isinstance(deltaIndexPrefix, list):\n",
    "        deltaIndexPrefix_list = deltaIndexPrefix\n",
    "        deltaIndexPrefix = False # stuff dummy value to fmt first, then overwrite with list replacement\n",
    "\n",
    "    params = {\n",
    "        \"currency1\": currency1,\n",
    "        \"effectiveCurrencies2\": effectiveCurrencies2,\n",
    "        \"deltaIndexPrefix\": deltaIndexPrefix,\n",
    "        \"denominator\": denominator,\n",
    "        \"posfLimit\": posfLimit\n",
    "    }\n",
    "\n",
    "    fname_prefix, yaml_text = generate_aggregation_yaml_from_file(config_file=config_fpath, parameters=params)\n",
    "\n",
    "    if deltaIndexPrefix == False: ## overwrite here\n",
    "        temp = yaml.safe_load(yaml_text)\n",
    "\n",
    "        ## add trade aggres to compose delta\n",
    "        temp[\"spec\"][\"settings\"][\"components\"] = deltaIndexPrefix_list\n",
    "\n",
    "        yaml_text = yaml.dump(temp)\n",
    "\n",
    "    return fname_prefix, yaml_text\n"
   ]
  },
  {
   "cell_type": "code",
   "execution_count": 44,
   "metadata": {},
   "outputs": [],
   "source": [
    "fname_prefix, yaml_text = index_position_factor(\n",
    "    currency1=\"FYN\",\n",
    "    effectiveCurrencies2=\"USD\",\n",
    "    deltaIndexPrefix=fname_to_redis_key(\"index.multiple.spot.multiple.public.FYN.USD.delta.affyn-mm\") # ['delta.multiple.spot.multiple.public.FYN.USD.affyn-mm', \"hehe\"]\n",
    ")"
   ]
  },
  {
   "cell_type": "code",
   "execution_count": 45,
   "metadata": {},
   "outputs": [
    {
     "name": "stdout",
     "output_type": "stream",
     "text": [
      "apiVersion: microservice.flowdesk.co/v1alpha1\n",
      "kind: Index\n",
      "metadata:\n",
      "  labels:\n",
      "    app.kubernetes.io/managed-by: flux\n",
      "    app.kubernetes.io/created-by: flux\n",
      "  name: index.multiple.spot.ws.private.FYN.USD.basket.position-factor-mm\n",
      "  namespace: global\n",
      "spec:\n",
      "  deploymentSpec:\n",
      "    projectId: infrastructure-prod-92821\n",
      "    imageName: asia-northeast1-docker.pkg.dev/infrastructure-prod-92821/main-asia/flowdeskmarkets/index\n",
      "    imageTag: v1.15.1\n",
      "  settings:\n",
      "    customName: position-factor-mm\n",
      "    exchange: multiple\n",
      "    exchangeType: spot\n",
      "    protocol: ws\n",
      "    authType: private\n",
      "    marketData: basket\n",
      "    currency1: FYN\n",
      "    currency2: USD\n",
      "    components:\n",
      "    - index.multiple.spot.multiple.public.FYN.USD.delta.affyn-mm\n",
      "    indexSettings:\n",
      "      formula: min(max((a)/10000,-0.2),0.2)\n",
      "    dataComponent: mid\n",
      "    minPeriod: 1000\n",
      "    minVariationThreshold: 0.01\n",
      "    disableExpiry: true\n",
      "\n"
     ]
    }
   ],
   "source": [
    "print(yaml_text)"
   ]
  },
  {
   "cell_type": "markdown",
   "metadata": {},
   "source": [
    "##### Basket Index (Weighted) USD +> USDT"
   ]
  },
  {
   "cell_type": "code",
   "execution_count": 106,
   "metadata": {},
   "outputs": [],
   "source": [
    "def index_weighted_USD(currency1, effectiveCurrencies2, ticksList, tickWeights = None, exchangeType = \"spot\", config_fpath = INDEX_TEMPLATE_PATH+\"usd_basket_index_template.yaml\"):\n",
    "    if isinstance(ticksList, str):\n",
    "        ticksList = [ticksList]\n",
    "        assert tickWeights in (1, None), \"If only one tick then weighting in index must be 1\"\n",
    "        ## no need to define tickweight if only one tick\n",
    "\n",
    "    else: ## when ticklist is an actual list\n",
    "        if tickWeights is None: ## edge case handling if weights are not specified\n",
    "            if (num_tick := len(ticksList)) > 1:\n",
    "                tickWeights = [round(1/num_tick, ndigits=3) for _ in range(num_tick)]\n",
    "            else:  \n",
    "                tickWeights = 1\n",
    "\n",
    "    params = {\n",
    "        \"currency1\": currency1,\n",
    "        \"effectiveCurrencies2\": effectiveCurrencies2,\n",
    "        \"exchangeType\": exchangeType,\n",
    "    }\n",
    "\n",
    "    fname_prefix, yaml_text = generate_aggregation_yaml_from_file(config_file=config_fpath, parameters=params)\n",
    "\n",
    "    ## overwrite here\n",
    "    temp = yaml.safe_load(yaml_text)\n",
    "\n",
    "    tick_names_list = [] # to be used in formula\n",
    "    for component in ticksList:\n",
    "        tickName = f\"{currency1}{component.split('.')[1]}\" ## e.g. {SD}{huobi}\n",
    "        temp[\"spec\"][\"settings\"][\"components\"].append(\n",
    "            {\n",
    "                \"name\": component,\n",
    "                \"alias\": tickName,\n",
    "                \"expireAfter\": 60000,\n",
    "                \"latency\": {\n",
    "                    \"current\": 100,\n",
    "                    \"tolerance\": 500,\n",
    "                    \"boostFactor\": 1\n",
    "                }\n",
    "            }\n",
    "        )\n",
    "        tick_names_list.append(tickName)\n",
    "        \n",
    "    if tickWeights != 1 and tickWeights is not None:\n",
    "        formula = \"+\".join([f\"Weight({tickName}, {tickWeight})\" for tickName, tickWeight in zip(tick_names_list, tickWeights)])\n",
    "        temp[\"spec\"][\"settings\"][\"indexSettings\"][\"formula\"] = f\"Basket({formula})\"\n",
    "\n",
    "    else:\n",
    "        temp[\"spec\"][\"settings\"][\"indexSettings\"][\"formula\"] = f\"Basket(Weight({tick_names_list[0]}, 1))\"\n",
    "\n",
    "    yaml_text = yaml.dump(temp)\n",
    "\n",
    "    return fname_prefix, yaml_text\n"
   ]
  },
  {
   "cell_type": "code",
   "execution_count": 107,
   "metadata": {},
   "outputs": [],
   "source": [
    "fname_prefix , yaml_text = index_weighted_USD(\n",
    "    currency1=\"SD\", \n",
    "    effectiveCurrencies2=\"USD\",\n",
    "    ticksList=[\"tick.huobi.spot.ws.public.SD.USDT.USD\", \"tick.okex.spot.ws.public.SD.USDT.USD\", \"tick.gate.spot.ws.public.SD.USDT.USD\"]  #\"tick.huobi.spot.ws.public.SD.USDT.USD\"\n",
    ")"
   ]
  },
  {
   "cell_type": "code",
   "execution_count": 103,
   "metadata": {},
   "outputs": [
    {
     "name": "stdout",
     "output_type": "stream",
     "text": [
      "apiVersion: microservice.flowdesk.co/v1alpha1\n",
      "kind: BasketIndex\n",
      "metadata:\n",
      "  labels:\n",
      "    app.kubernetes.io/created-by: flux\n",
      "    app.kubernetes.io/managed-by: flux\n",
      "  name: index.multiple.spot.multiple.public.sd.usd.basket.asia.global\n",
      "  namespace: global\n",
      "spec:\n",
      "  deploymentSpec:\n",
      "    imageName: asia-northeast1-docker.pkg.dev/infrastructure-prod-92821/main-asia/flowdeskmarkets/basket-index\n",
      "    imageTag: v1.9.0\n",
      "    nodeAffinity:\n",
      "    - workload-performance\n",
      "    projectId: infrastructure-prod-92821\n",
      "  settings:\n",
      "    authType: public\n",
      "    components:\n",
      "    - alias: SDhuobi\n",
      "      expireAfter: 60000\n",
      "      latency:\n",
      "        boostFactor: 1\n",
      "        current: 100\n",
      "        tolerance: 500\n",
      "      name: tick.huobi.spot.ws.public.SD.USDT.USD\n",
      "    - alias: SDokex\n",
      "      expireAfter: 60000\n",
      "      latency:\n",
      "        boostFactor: 1\n",
      "        current: 100\n",
      "        tolerance: 500\n",
      "      name: tick.okex.spot.ws.public.SD.USDT.USD\n",
      "    - alias: SDgate\n",
      "      expireAfter: 60000\n",
      "      latency:\n",
      "        boostFactor: 1\n",
      "        current: 100\n",
      "        tolerance: 500\n",
      "      name: tick.gate.spot.ws.public.SD.USDT.USD\n",
      "    currency1: SD\n",
      "    currency2: USD\n",
      "    customName: global\n",
      "    exchange: multiple\n",
      "    exchangeType: spot\n",
      "    indexSettings:\n",
      "      formula: Basket(Weight(SDhuobi, 0.333)+Weight(SDokex, 0.333)+Weight(SDgate,\n",
      "        0.333))\n",
      "    marketData: basket\n",
      "    minVariationThreshold: 0.0001\n",
      "    protocol: multiple\n",
      "    region: asia\n",
      "\n"
     ]
    }
   ],
   "source": [
    "print(yaml_text)"
   ]
  },
  {
   "cell_type": "code",
   "execution_count": 104,
   "metadata": {},
   "outputs": [],
   "source": [
    "def index_weighted_USDT(currency1, currency2, effectiveCurrencies2, usdIndexKey, exchangeType=\"spot\", config_fpath = INDEX_TEMPLATE_PATH+\"usdt_index_template.yaml\"):\n",
    "    params = {\n",
    "        \"currency1\": currency1,\n",
    "        \"currency2\": currency2,\n",
    "        \"exchangeType\": exchangeType\n",
    "    }\n",
    "\n",
    "    fname_prefix, yaml_text = generate_aggregation_yaml_from_file(config_file=config_fpath, parameters=params)\n",
    "    \n",
    "    ## overwrite here\n",
    "    temp = yaml.safe_load(yaml_text)\n",
    "    temp[\"spec\"][\"settings\"][\"components\"] = [\n",
    "        {\n",
    "            \"name\": usdIndexKey,\n",
    "            \"alias\": currency1,\n",
    "            \"expireAfter\": 60000,\n",
    "            \"latency\":{\n",
    "                \"current\": 150,\n",
    "                \"tolerance\": 500,\n",
    "                \"boostFactor\": 1\n",
    "            }\n",
    "        },\n",
    "        {\n",
    "            \"name\": f\"basket.multiple.spot.multiple.public.{currency2}.{effectiveCurrencies2}.asia.global\",\n",
    "            \"alias\": currency2,\n",
    "            \"expireAfter\": 60000,\n",
    "            \"latency\":{\n",
    "                \"current\": 150,\n",
    "                \"tolerance\": 500,\n",
    "                \"boostFactor\": 1\n",
    "            }\n",
    "        },\n",
    "    ]\n",
    "    yaml_text = yaml.dump(temp)\n",
    "\n",
    "    return fname_prefix, yaml_text"
   ]
  },
  {
   "cell_type": "code",
   "execution_count": 108,
   "metadata": {},
   "outputs": [],
   "source": [
    "fname_prefix , yaml_text = index_weighted_USDT(\n",
    "    currency1=\"SD\", \n",
    "    effectiveCurrencies2=\"USD\",\n",
    "    currency2 = \"USDT\",\n",
    "    usdIndexKey = fname_to_redis_key(fname_prefix)\n",
    ")"
   ]
  },
  {
   "cell_type": "code",
   "execution_count": 109,
   "metadata": {},
   "outputs": [
    {
     "name": "stdout",
     "output_type": "stream",
     "text": [
      "apiVersion: microservice.flowdesk.co/v1alpha1\n",
      "kind: BasketIndex\n",
      "metadata:\n",
      "  labels:\n",
      "    app.kubernetes.io/created-by: flux\n",
      "    app.kubernetes.io/managed-by: flux\n",
      "  name: index.multiple.spot.multiple.public.SD.USDT.basket.asia.global\n",
      "  namespace: global\n",
      "spec:\n",
      "  deploymentSpec:\n",
      "    imageName: asia-northeast1-docker.pkg.dev/infrastructure-prod-92821/main-asia/flowdeskmarkets/basket-index\n",
      "    imageTag: v1.9.0\n",
      "    nodeAffinity:\n",
      "    - workload-performance\n",
      "    projectId: infrastructure-prod-92821\n",
      "  settings:\n",
      "    authType: public\n",
      "    components:\n",
      "    - alias: SD\n",
      "      expireAfter: 60000\n",
      "      latency:\n",
      "        boostFactor: 1\n",
      "        current: 150\n",
      "        tolerance: 500\n",
      "      name: asia.multiple.spot.multiple.public.SD.USD.basket.global\n",
      "    - alias: USDT\n",
      "      expireAfter: 60000\n",
      "      latency:\n",
      "        boostFactor: 1\n",
      "        current: 150\n",
      "        tolerance: 500\n",
      "      name: basket.multiple.spot.multiple.public.USDT.USD.asia.global\n",
      "    currency1: SD\n",
      "    currency2: USDT\n",
      "    customName: global\n",
      "    exchange: multiple\n",
      "    exchangeType: spot\n",
      "    indexSettings:\n",
      "      formula: Basket(Weight( SD / USDT ,1))\n",
      "    marketData: basket\n",
      "    minVariationThreshold: 0.0001\n",
      "    protocol: multiple\n",
      "    region: asia\n",
      "\n"
     ]
    }
   ],
   "source": [
    "print(yaml_text)"
   ]
  },
  {
   "cell_type": "markdown",
   "metadata": {},
   "source": [
    "##### Vol Index"
   ]
  },
  {
   "cell_type": "code",
   "execution_count": 110,
   "metadata": {},
   "outputs": [],
   "source": [
    "## TODO: add vol index "
   ]
  },
  {
   "cell_type": "markdown",
   "metadata": {},
   "source": [
    "##### Price Index"
   ]
  },
  {
   "cell_type": "code",
   "execution_count": 111,
   "metadata": {},
   "outputs": [],
   "source": [
    "## TODO: add Price Index"
   ]
  },
  {
   "cell_type": "markdown",
   "metadata": {},
   "source": [
    "#### Tradegenerator & Tradeexecutor (CEX)"
   ]
  },
  {
   "cell_type": "markdown",
   "metadata": {},
   "source": [
    "##### Tradegenerator"
   ]
  },
  {
   "cell_type": "code",
   "execution_count": null,
   "metadata": {},
   "outputs": [],
   "source": [
    "def cex_tradegen():\n",
    "    pass"
   ]
  }
 ],
 "metadata": {
  "kernelspec": {
   "display_name": "hedge_check_env",
   "language": "python",
   "name": "python3"
  },
  "language_info": {
   "codemirror_mode": {
    "name": "ipython",
    "version": 3
   },
   "file_extension": ".py",
   "mimetype": "text/x-python",
   "name": "python",
   "nbconvert_exporter": "python",
   "pygments_lexer": "ipython3",
   "version": "3.11.4"
  }
 },
 "nbformat": 4,
 "nbformat_minor": 2
}
